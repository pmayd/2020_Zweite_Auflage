{
 "cells": [
  {
   "cell_type": "code",
   "execution_count": 2,
   "metadata": {},
   "outputs": [],
   "source": [
    "#\n",
    "# Beispiel einer Visualisierung des Olivetti-Dataset \n",
    "# \n",
    "import matplotlib\n",
    "matplotlib.use('TkAgg')"
   ]
  },
  {
   "cell_type": "code",
   "execution_count": 3,
   "metadata": {},
   "outputs": [],
   "source": [
    "import matplotlib.pyplot as plt\n",
    "from sklearn.datasets import fetch_olivetti_faces"
   ]
  },
  {
   "cell_type": "code",
   "execution_count": 4,
   "metadata": {},
   "outputs": [],
   "source": [
    "olivetti = fetch_olivetti_faces(data_home=None, shuffle=False, random_state=0, download_if_missing=True)"
   ]
  },
  {
   "cell_type": "code",
   "execution_count": 5,
   "metadata": {},
   "outputs": [],
   "source": [
    "# Visualisierung des ersten Bilds \n",
    "plt.imshow(olivetti.data[0].reshape(64,64), cmap='gray')\n",
    "plt.show()"
   ]
  },
  {
   "cell_type": "code",
   "execution_count": null,
   "metadata": {},
   "outputs": [],
   "source": []
  }
 ],
 "metadata": {
  "jupytext": {
   "cell_metadata_filter": "-all",
   "main_language": "python",
   "notebook_metadata_filter": "-all"
  },
  "kernelspec": {
   "name": "Python 3.7.7 64-bit ('ml': conda)",
   "display_name": "Python 3.7.7 64-bit ('ml': conda)",
   "metadata": {
    "interpreter": {
     "hash": "a15157aff667c6a9c8d43b10f27783a607d9cdad097282b39352efe0a0eaa1e1"
    }
   }
  }
 },
 "nbformat": 4,
 "nbformat_minor": 2
}