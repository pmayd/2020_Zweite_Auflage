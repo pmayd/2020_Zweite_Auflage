{
 "cells": [
  {
   "cell_type": "code",
   "execution_count": 1,
   "metadata": {},
   "outputs": [],
   "source": [
    "#\n",
    "# Beispiele für die Benutzung von NumPy\n",
    "# Bei Bedarf die Python-Module wie wget und tabulate mittels conda oder pip instalieren#\n",
    "import numpy as np\n",
    "import wget\n",
    "import matplotlib\n",
    "matplotlib.use('TkAgg')\n",
    "import matplotlib.pyplot as plt"
   ]
  },
  {
   "cell_type": "code",
   "execution_count": 2,
   "metadata": {},
   "outputs": [],
   "source": [
    "from tabulate import tabulate\n",
    "from scipy.stats import itemfreq"
   ]
  },
  {
   "cell_type": "markdown",
   "metadata": {},
   "source": [
    "Hier wird ein Datenset von Autos herunterladen\n",
    "https://archive.ics.uci.edu/ml/machine-learning-databases/autos/imports-85.data"
   ]
  },
  {
   "cell_type": "code",
   "execution_count": 3,
   "metadata": {},
   "outputs": [],
   "source": [
    "DATA_URL = \"https://archive.ics.uci.edu/ml/machine-learning-databases/autos/imports-85.data\""
   ]
  },
  {
   "cell_type": "code",
   "execution_count": 4,
   "metadata": {},
   "outputs": [
    {
     "output_type": "execute_result",
     "data": {
      "text/plain": [
       "'auto (1).csv'"
      ]
     },
     "metadata": {},
     "execution_count": 4
    }
   ],
   "source": [
    "wget.download(DATA_URL, \"auto.csv\")\n",
    "# usecols wird benutzt, um nur bestimmte Spalten zu laden\n",
    "# make: 2\n",
    "# fuel: 3\n",
    "# num-of-doors: 5\n",
    "# price: 25"
   ]
  },
  {
   "cell_type": "code",
   "execution_count": 15,
   "metadata": {},
   "outputs": [
    {
     "output_type": "execute_result",
     "data": {
      "text/plain": [
       "(205, 4)"
      ]
     },
     "metadata": {},
     "execution_count": 15
    }
   ],
   "source": [
    "dt = [(\"brand\",\"S8\"), (\"fuel\",\"S10\"), (\"doors\",\"S10\"), (\"price\",float)]\n",
    "all_autos= np.loadtxt(\"auto.csv\", delimiter=\",\", dtype=str, usecols=[2,3,5,25])\n",
    "\n",
    "all_autos.shape"
   ]
  },
  {
   "cell_type": "code",
   "execution_count": 16,
   "metadata": {},
   "outputs": [
    {
     "output_type": "execute_result",
     "data": {
      "text/plain": [
       "array(['13495', '16500', '16500', '13950', '17450', '15250', '17710',\n",
       "       '18920', '23875', '?', '16430', '16925', '20970', '21105', '24565',\n",
       "       '30760', '41315', '36880', '5151', '6295', '6575', '5572', '6377',\n",
       "       '7957', '6229', '6692', '7609', '8558', '8921', '12964', '6479',\n",
       "       '6855', '5399', '6529', '7129', '7295', '7295', '7895', '9095',\n",
       "       '8845', '10295', '12945', '10345', '6785', '?', '?', '11048',\n",
       "       '32250', '35550', '36000', '5195', '6095', '6795', '6695', '7395',\n",
       "       '10945', '11845', '13645', '15645', '8845', '8495', '10595',\n",
       "       '10245', '10795', '11245', '18280', '18344', '25552', '28248',\n",
       "       '28176', '31600', '34184', '35056', '40960', '45400', '16503',\n",
       "       '5389', '6189', '6669', '7689', '9959', '8499', '12629', '14869',\n",
       "       '14489', '6989', '8189', '9279', '9279', '5499', '7099', '6649',\n",
       "       '6849', '7349', '7299', '7799', '7499', '7999', '8249', '8949',\n",
       "       '9549', '13499', '14399', '13499', '17199', '19699', '18399',\n",
       "       '11900', '13200', '12440', '13860', '15580', '16900', '16695',\n",
       "       '17075', '16630', '17950', '18150', '5572', '7957', '6229', '6692',\n",
       "       '7609', '8921', '12764', '22018', '32528', '34028', '37028', '?',\n",
       "       '9295', '9895', '11850', '12170', '15040', '15510', '18150',\n",
       "       '18620', '5118', '7053', '7603', '7126', '7775', '9960', '9233',\n",
       "       '11259', '7463', '10198', '8013', '11694', '5348', '6338', '6488',\n",
       "       '6918', '7898', '8778', '6938', '7198', '7898', '7788', '7738',\n",
       "       '8358', '9258', '8058', '8238', '9298', '9538', '8449', '9639',\n",
       "       '9989', '11199', '11549', '17669', '8948', '10698', '9988',\n",
       "       '10898', '11248', '16558', '15998', '15690', '15750', '7775',\n",
       "       '7975', '7995', '8195', '8495', '9495', '9995', '11595', '9980',\n",
       "       '13295', '13845', '12290', '12940', '13415', '15985', '16515',\n",
       "       '18420', '18950', '16845', '19045', '21485', '22470', '22625'],\n",
       "      dtype='<U13')"
      ]
     },
     "metadata": {},
     "execution_count": 16
    }
   ],
   "source": [
    "# Alle Preise in einer Spalte\n",
    "all_autos_prices = all_autos[:,3]\n",
    "\n",
    "all_autos_prices"
   ]
  },
  {
   "cell_type": "code",
   "execution_count": 17,
   "metadata": {
    "lines_to_next_cell": 2
   },
   "outputs": [],
   "source": [
    "# Manche Zeilen besitzen einen ?. Wir ersetzen diese bevor wir diese Spalte in float umkonvertieren\n",
    "all_autos_prices = np.core.defchararray.replace(np.array(all_autos[:,3]), '?', '0').astype(\"float\")\n",
    "\n",
    "all_autos[:,3] = all_autos_prices"
   ]
  },
  {
   "cell_type": "code",
   "execution_count": 11,
   "metadata": {},
   "outputs": [
    {
     "output_type": "execute_result",
     "data": {
      "text/plain": [
       "array([13495., 16500., 16500., 13950., 17450., 15250., 17710., 18920.,\n",
       "       23875.,     0., 16430., 16925., 20970., 21105., 24565., 30760.,\n",
       "       41315., 36880.,  5151.,  6295.,  6575.,  5572.,  6377.,  7957.,\n",
       "        6229.,  6692.,  7609.,  8558.,  8921., 12964.,  6479.,  6855.,\n",
       "        5399.,  6529.,  7129.,  7295.,  7295.,  7895.,  9095.,  8845.,\n",
       "       10295., 12945., 10345.,  6785.,     0.,     0., 11048., 32250.,\n",
       "       35550., 36000.,  5195.,  6095.,  6795.,  6695.,  7395., 10945.,\n",
       "       11845., 13645., 15645.,  8845.,  8495., 10595., 10245., 10795.,\n",
       "       11245., 18280., 18344., 25552., 28248., 28176., 31600., 34184.,\n",
       "       35056., 40960., 45400., 16503.,  5389.,  6189.,  6669.,  7689.,\n",
       "        9959.,  8499., 12629., 14869., 14489.,  6989.,  8189.,  9279.,\n",
       "        9279.,  5499.,  7099.,  6649.,  6849.,  7349.,  7299.,  7799.,\n",
       "        7499.,  7999.,  8249.,  8949.,  9549., 13499., 14399., 13499.,\n",
       "       17199., 19699., 18399., 11900., 13200., 12440., 13860., 15580.,\n",
       "       16900., 16695., 17075., 16630., 17950., 18150.,  5572.,  7957.,\n",
       "        6229.,  6692.,  7609.,  8921., 12764., 22018., 32528., 34028.,\n",
       "       37028.,     0.,  9295.,  9895., 11850., 12170., 15040., 15510.,\n",
       "       18150., 18620.,  5118.,  7053.,  7603.,  7126.,  7775.,  9960.,\n",
       "        9233., 11259.,  7463., 10198.,  8013., 11694.,  5348.,  6338.,\n",
       "        6488.,  6918.,  7898.,  8778.,  6938.,  7198.,  7898.,  7788.,\n",
       "        7738.,  8358.,  9258.,  8058.,  8238.,  9298.,  9538.,  8449.,\n",
       "        9639.,  9989., 11199., 11549., 17669.,  8948., 10698.,  9988.,\n",
       "       10898., 11248., 16558., 15998., 15690., 15750.,  7775.,  7975.,\n",
       "        7995.,  8195.,  8495.,  9495.,  9995., 11595.,  9980., 13295.,\n",
       "       13845., 12290., 12940., 13415., 15985., 16515., 18420., 18950.,\n",
       "       16845., 19045., 21485., 22470., 22625.])"
      ]
     },
     "metadata": {},
     "execution_count": 11
    }
   ],
   "source": [
    "all_autos_prices"
   ]
  },
  {
   "cell_type": "code",
   "execution_count": 18,
   "metadata": {},
   "outputs": [],
   "source": [
    "# Die Zeilen deren Preis gleich 0 ist, werden aus dem Datenset rausgenommen\n",
    "no_prices = np.where(all_autos_prices == 0.0)\n",
    "all_autos = np.delete(all_autos, no_prices, axis=0)\n",
    "all_autos_prices = np.delete(all_autos_prices, no_prices, axis=0)"
   ]
  },
  {
   "cell_type": "code",
   "execution_count": 25,
   "metadata": {},
   "outputs": [
    {
     "output_type": "stream",
     "name": "stdout",
     "text": [
      "Durschnittspreis $13207.129353233831\nMaximum $45400.0 ['mercedes-benz' 'gas' 'two' '45400.0']\nMinimum $5118.0 ['subaru' 'gas' 'two' '5118.0']\n"
     ]
    }
   ],
   "source": [
    "print(f\"Durschnittspreis ${np.mean(all_autos_prices)}\") # Das sind nur strings\n",
    "print(f\"Maximum ${np.max(all_autos_prices)} {all_autos[np.argmax(all_autos_prices)]}\")\n",
    "print(f\"Minimum ${np.min(all_autos_prices)} {all_autos[np.argmin(all_autos_prices)]}\")"
   ]
  },
  {
   "cell_type": "code",
   "execution_count": 26,
   "metadata": {},
   "outputs": [
    {
     "output_type": "stream",
     "name": "stdout",
     "text": [
      "Umkonvertierung in Euro\n"
     ]
    }
   ],
   "source": [
    "print (\"Umkonvertierung in Euro\")\n",
    "dollar_euro_conversion_rate = 0.88"
   ]
  },
  {
   "cell_type": "code",
   "execution_count": 28,
   "metadata": {},
   "outputs": [],
   "source": [
    "# Wir selektieren die Spalte mit dem index 3 und konvertieren den Preis nach Euros\n",
    "all_autos[:,3] = np.array(all_autos[:,3], \"float32\") * dollar_euro_conversion_rate"
   ]
  },
  {
   "cell_type": "code",
   "execution_count": 31,
   "metadata": {},
   "outputs": [
    {
     "output_type": "stream",
     "name": "stdout",
     "text": [
      "Marke          Treibstoff    Anzahl Türe      Preis in Euro\n-------------  ------------  -------------  ---------------\nalfa-romero    gas           two                   11875.6\nalfa-romero    gas           two                   14520\nalfa-romero    gas           two                   14520\naudi           gas           four                  12276\naudi           gas           four                  15356\naudi           gas           two                   13420\naudi           gas           four                  15584.8\naudi           gas           four                  16649.6\naudi           gas           four                  21010\nbmw            gas           two                   14458.4\nbmw            gas           four                  14894\nbmw            gas           two                   18453.6\nbmw            gas           four                  18572.4\nbmw            gas           four                  21617.2\nbmw            gas           four                  27068.8\nbmw            gas           two                   36357.2\nbmw            gas           four                  32454.4\nchevrolet      gas           two                    4532.88\nchevrolet      gas           two                    5539.6\nchevrolet      gas           four                   5786\ndodge          gas           two                    4903.36\ndodge          gas           two                    5611.76\ndodge          gas           two                    7002.16\ndodge          gas           four                   5481.52\ndodge          gas           four                   5888.96\ndodge          gas           four                   6695.92\ndodge          gas           ?                      7531.04\ndodge          gas           four                   7850.48\ndodge          gas           two                   11408.3\nhonda          gas           two                    5701.52\nhonda          gas           two                    6032.4\nhonda          gas           two                    4751.12\nhonda          gas           two                    5745.52\nhonda          gas           two                    6273.52\nhonda          gas           four                   6419.6\nhonda          gas           four                   6419.6\nhonda          gas           two                    6947.6\nhonda          gas           two                    8003.6\nhonda          gas           four                   7783.6\nhonda          gas           four                   9059.6\nhonda          gas           four                  11391.6\nhonda          gas           two                    9103.6\nisuzu          gas           four                   5970.8\nisuzu          gas           two                    9722.24\njaguar         gas           four                  28380\njaguar         gas           four                  31284\njaguar         gas           two                   31680\nmazda          gas           two                    4571.6\nmazda          gas           two                    5363.6\nmazda          gas           two                    5979.6\nmazda          gas           four                   5891.6\nmazda          gas           four                   6507.6\nmazda          gas           two                    9631.6\nmazda          gas           two                   10423.6\nmazda          gas           two                   12007.6\nmazda          gas           two                   13767.6\nmazda          gas           two                    7783.6\nmazda          gas           four                   7475.6\nmazda          gas           two                    9323.6\nmazda          gas           four                   9015.6\nmazda          diesel        ?                      9499.6\nmazda          gas           four                   9895.6\nmazda          gas           four                  16086.4\nmazda          diesel        four                  16142.7\nmercedes-benz  diesel        four                  22485.8\nmercedes-benz  diesel        four                  24858.2\nmercedes-benz  diesel        two                   24794.9\nmercedes-benz  diesel        four                  27808\nmercedes-benz  gas           four                  30081.9\nmercedes-benz  gas           two                   30849.3\nmercedes-benz  gas           four                  36044.8\nmercedes-benz  gas           two                   39952\nmercury        gas           two                   14522.6\nmitsubishi     gas           two                    4742.32\nmitsubishi     gas           two                    5446.32\nmitsubishi     gas           two                    5868.72\nmitsubishi     gas           two                    6766.32\nmitsubishi     gas           two                    8763.92\nmitsubishi     gas           two                    7479.12\nmitsubishi     gas           two                   11113.5\nmitsubishi     gas           two                   13084.7\nmitsubishi     gas           two                   12750.3\nmitsubishi     gas           four                   6150.32\nmitsubishi     gas           four                   7206.32\nmitsubishi     gas           four                   8165.52\nmitsubishi     gas           four                   8165.52\nnissan         gas           two                    4839.12\nnissan         diesel        two                    6247.12\nnissan         gas           two                    5851.12\nnissan         gas           four                   6027.12\nnissan         gas           four                   6467.12\nnissan         gas           two                    6423.12\nnissan         gas           two                    6863.12\nnissan         gas           four                   6599.12\nnissan         gas           four                   7039.12\nnissan         gas           two                    7259.12\nnissan         gas           four                   7875.12\nnissan         gas           four                   8403.12\nnissan         gas           four                  11879.1\nnissan         gas           four                  12671.1\nnissan         gas           four                  11879.1\nnissan         gas           two                   15135.1\nnissan         gas           two                   17335.1\nnissan         gas           two                   16191.1\npeugot         gas           four                  10472\npeugot         diesel        four                  11616\npeugot         gas           four                  10947.2\npeugot         diesel        four                  12196.8\npeugot         gas           four                  13710.4\npeugot         diesel        four                  14872\npeugot         gas           four                  14691.6\npeugot         diesel        four                  15026\npeugot         gas           four                  14634.4\npeugot         diesel        four                  15796\npeugot         gas           four                  15972\nplymouth       gas           two                    4903.36\nplymouth       gas           two                    7002.16\nplymouth       gas           four                   5481.52\nplymouth       gas           four                   5888.96\nplymouth       gas           four                   6695.92\nplymouth       gas           four                   7850.48\nplymouth       gas           two                   11232.3\nporsche        gas           two                   19375.8\nporsche        gas           two                   28624.6\nporsche        gas           two                   29944.6\nporsche        gas           two                   32584.6\nrenault        gas           four                   8179.6\nrenault        gas           two                    8707.6\nsaab           gas           two                   10428\nsaab           gas           four                  10709.6\nsaab           gas           two                   13235.2\nsaab           gas           four                  13648.8\nsaab           gas           two                   15972\nsaab           gas           four                  16385.6\nsubaru         gas           two                    4503.84\nsubaru         gas           two                    6206.64\nsubaru         gas           two                    6690.64\nsubaru         gas           four                   6270.88\nsubaru         gas           four                   6842\nsubaru         gas           four                   8764.8\nsubaru         gas           four                   8125.04\nsubaru         gas           four                   9907.92\nsubaru         gas           four                   6567.44\nsubaru         gas           four                   8974.24\nsubaru         gas           four                   7051.44\nsubaru         gas           four                  10290.7\ntoyota         gas           two                    4706.24\ntoyota         gas           two                    5577.44\ntoyota         gas           four                   5709.44\ntoyota         gas           four                   6087.84\ntoyota         gas           four                   6950.24\ntoyota         gas           four                   7724.64\ntoyota         gas           four                   6105.44\ntoyota         gas           four                   6334.24\ntoyota         diesel        four                   6950.24\ntoyota         diesel        four                   6853.44\ntoyota         gas           four                   6809.44\ntoyota         gas           four                   7355.04\ntoyota         gas           four                   8147.04\ntoyota         gas           two                    7091.04\ntoyota         gas           two                    7249.44\ntoyota         gas           two                    8182.24\ntoyota         gas           two                    8393.44\ntoyota         gas           two                    7435.12\ntoyota         gas           two                    8482.32\ntoyota         gas           two                    8790.32\ntoyota         gas           two                    9855.12\ntoyota         gas           two                   10163.1\ntoyota         gas           two                   15548.7\ntoyota         gas           four                   7874.24\ntoyota         diesel        four                   9414.24\ntoyota         gas           four                   8789.44\ntoyota         gas           four                   9590.24\ntoyota         gas           four                   9898.24\ntoyota         gas           two                   14571\ntoyota         gas           two                   14078.2\ntoyota         gas           four                  13807.2\ntoyota         gas           four                  13860\nvolkswagen     diesel        two                    6842\nvolkswagen     gas           two                    7018\nvolkswagen     diesel        four                   7035.6\nvolkswagen     gas           four                   7211.6\nvolkswagen     gas           four                   7475.6\nvolkswagen     diesel        four                   8355.6\nvolkswagen     gas           four                   8795.6\nvolkswagen     gas           two                   10203.6\nvolkswagen     gas           two                    8782.4\nvolkswagen     gas           four                  11699.6\nvolkswagen     diesel        four                  12183.6\nvolkswagen     gas           four                  10815.2\nvolvo          gas           four                  11387.2\nvolvo          gas           four                  11805.2\nvolvo          gas           four                  14066.8\nvolvo          gas           four                  14533.2\nvolvo          gas           four                  16209.6\nvolvo          gas           four                  16676\nvolvo          gas           four                  14823.6\nvolvo          gas           four                  16759.6\nvolvo          gas           four                  18906.8\nvolvo          diesel        four                  19773.6\nvolvo          gas           four                  19910\n"
     ]
    }
   ],
   "source": [
    "print(tabulate(all_autos, headers=[\"Marke\",\"Treibstoff\",\"Anzahl Türe\",\"Preis in Euro\"]))"
   ]
  },
  {
   "cell_type": "code",
   "execution_count": 32,
   "metadata": {},
   "outputs": [
    {
     "output_type": "stream",
     "name": "stdout",
     "text": [
      "Anzahl von VW Autos: 12\n"
     ]
    }
   ],
   "source": [
    "# Anzahl der VW im Datenset\n",
    "nb_vw = len(np.where(all_autos[:,0] == \"volkswagen\")[0])\n",
    "print(f\"Anzahl von VW Autos: {nb_vw}\")"
   ]
  },
  {
   "cell_type": "code",
   "execution_count": 33,
   "metadata": {},
   "outputs": [],
   "source": [
    "# Anzahl der Autos per Marke\n",
    "# Wir benutzen hier itemfreq von scipy.stats\n",
    "stats = np.array(itemfreq(all_autos[:,0]))"
   ]
  },
  {
   "cell_type": "code",
   "execution_count": 34,
   "metadata": {},
   "outputs": [
    {
     "output_type": "execute_result",
     "data": {
      "text/plain": [
       "array([['alfa-romero', '3'],\n",
       "       ['audi', '6'],\n",
       "       ['bmw', '8'],\n",
       "       ['chevrolet', '3'],\n",
       "       ['dodge', '9'],\n",
       "       ['honda', '13'],\n",
       "       ['isuzu', '2'],\n",
       "       ['jaguar', '3'],\n",
       "       ['mazda', '17'],\n",
       "       ['mercedes-benz', '8'],\n",
       "       ['mercury', '1'],\n",
       "       ['mitsubishi', '13'],\n",
       "       ['nissan', '18'],\n",
       "       ['peugot', '11'],\n",
       "       ['plymouth', '7'],\n",
       "       ['porsche', '4'],\n",
       "       ['renault', '2'],\n",
       "       ['saab', '6'],\n",
       "       ['subaru', '12'],\n",
       "       ['toyota', '32'],\n",
       "       ['volkswagen', '12'],\n",
       "       ['volvo', '11']], dtype='<U21')"
      ]
     },
     "metadata": {},
     "execution_count": 34
    }
   ],
   "source": [
    "stats"
   ]
  },
  {
   "cell_type": "markdown",
   "metadata": {},
   "source": [
    "Optional: Sortierung nach Anzahl der Fahrzeuge pro Marke \n",
    "stats = stats[stats[:,1].astype(int).argsort()]"
   ]
  },
  {
   "cell_type": "code",
   "execution_count": 35,
   "metadata": {},
   "outputs": [],
   "source": [
    "# Konvertierung zu einem record \n",
    "d = np.rec.fromarrays([stats[:,0], stats[:,1]], formats=['<U21','int'], names=['brand','numbers'])"
   ]
  },
  {
   "cell_type": "code",
   "execution_count": 36,
   "metadata": {},
   "outputs": [
    {
     "output_type": "execute_result",
     "data": {
      "text/plain": [
       "rec.array([('alfa-romero',  3), ('audi',  6), ('bmw',  8),\n",
       "           ('chevrolet',  3), ('dodge',  9), ('honda', 13), ('isuzu',  2),\n",
       "           ('jaguar',  3), ('mazda', 17), ('mercedes-benz',  8),\n",
       "           ('mercury',  1), ('mitsubishi', 13), ('nissan', 18),\n",
       "           ('peugot', 11), ('plymouth',  7), ('porsche',  4),\n",
       "           ('renault',  2), ('saab',  6), ('subaru', 12), ('toyota', 32),\n",
       "           ('volkswagen', 12), ('volvo', 11)],\n",
       "          dtype=[('brand', '<U21'), ('numbers', '<i4')])"
      ]
     },
     "metadata": {},
     "execution_count": 36
    }
   ],
   "source": [
    "d"
   ]
  },
  {
   "cell_type": "code",
   "execution_count": 37,
   "metadata": {},
   "outputs": [],
   "source": [
    "# Sortiere nach Anzahl der Fahrzeuge pro Marke\n",
    "d = d[d[\"numbers\"].astype(int).argsort()]"
   ]
  },
  {
   "cell_type": "code",
   "execution_count": 38,
   "metadata": {},
   "outputs": [],
   "source": [
    "# Erste Buchstabe der Automarke soll gross geschrieben werden\n",
    "d[\"brand\"] = np.char.capitalize(d[\"brand\"])"
   ]
  },
  {
   "cell_type": "code",
   "execution_count": null,
   "metadata": {},
   "outputs": [],
   "source": [
    "# Ausgabe mit Matplotlib\n",
    "plt.xticks(range(len(d)),d[\"brand\"],rotation='vertical')\n",
    "plt.bar(range(len(d)),d[\"numbers\"])\n",
    "plt.title(\"Anzahl der Fahrzeuge\")\n",
    "plt.xlabel(\"Marke\")\n",
    "plt.ylabel(\"Anzahl\")\n",
    "plt.show()"
   ]
  },
  {
   "cell_type": "code",
   "execution_count": null,
   "metadata": {},
   "outputs": [],
   "source": []
  }
 ],
 "metadata": {
  "jupytext": {
   "cell_metadata_filter": "-all",
   "main_language": "python",
   "notebook_metadata_filter": "-all"
  },
  "kernelspec": {
   "name": "Python 3.7.7 64-bit ('ml': conda)",
   "display_name": "Python 3.7.7 64-bit ('ml': conda)",
   "metadata": {
    "interpreter": {
     "hash": "a15157aff667c6a9c8d43b10f27783a607d9cdad097282b39352efe0a0eaa1e1"
    }
   }
  }
 },
 "nbformat": 4,
 "nbformat_minor": 2
}